{
 "cells": [
  {
   "cell_type": "code",
   "execution_count": null,
   "metadata": {},
   "outputs": [],
   "source": [
    "import pymysql\n",
    "\n",
    "#CONNECTING TO MYSQL\n",
    "mydb = pymysql.connect(\n",
    "    host=\"localhost\",\n",
    "    user=\"root\",\n",
    "    password=\"1qaz@WSX3edc\"\n",
    ")\n",
    "\n",
    "mycursor= mydb.cursor()\n",
    "\n",
    "\n",
    "mycursor.execute(\"CREATE DATABASE ytdb\")\n",
    "\n",
    "#CREATING A DATABASE\n",
    "mydb = pymysql.connect( \n",
    "host = 'localhost' ,\n",
    "user = 'root'   ,\n",
    "password = '1qaz@WSX3edc', \n",
    "database = 'ytdb'  \n",
    ")\n",
    "\n",
    "#CREATING TABLES IN MYSQL FOR CHANNEL DETAILS AND VIDEO DETAILS\n",
    "mycursor=mydb.cursor()\n",
    "mycursor.execute(\"CREATE TABLE IF NOT EXISTS channel_details(channel_name VARCHAR(255), subscribers INT, total_video_count INT)\")\n",
    "mycursor.execute(\"CREATE TABLE IF NOT EXISTS video_details(channel_name VARCHAR(100), channel_id VARCHAR(100), video_title VARCHAR(255), video_id VARCHAR(255), likes INT, dislikes INT, comments INT,view_count int, YEAR int)\")\n",
    "\n",
    "\n"
   ]
  }
 ],
 "metadata": {
  "kernelspec": {
   "display_name": "Python 3",
   "language": "python",
   "name": "python3"
  },
  "language_info": {
   "name": "python",
   "version": "3.12.2"
  }
 },
 "nbformat": 4,
 "nbformat_minor": 2
}
